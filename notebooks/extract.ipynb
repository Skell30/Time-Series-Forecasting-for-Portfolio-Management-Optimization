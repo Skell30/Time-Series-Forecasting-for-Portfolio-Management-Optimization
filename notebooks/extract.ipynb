{
 "cells": [
  {
   "cell_type": "code",
   "execution_count": null,
   "id": "e9539039",
   "metadata": {
    "vscode": {
     "languageId": "plaintext"
    }
   },
   "outputs": [],
   "source": [
    "import yfinance as yf\n",
    "import pandas as pd\n",
    "import matplotlib.pyplot as plt\n",
    "\n",
    "# Define assets and date range\n",
    "tickers = [\"TSLA\", \"BND\", \"SPY\"]\n",
    "start_date = \"2015-07-01\"\n",
    "end_date = \"2025-07-31\"\n",
    "\n",
    "# Download data\n",
    "data = yf.download(tickers, start=start_date, end=end_date, group_by='ticker')\n",
    "\n",
    "# Check the structure\n",
    "print(data.head())\n",
    "\n",
    "# Separate into individual DataFrames for easier handling\n",
    "assets_data = {}\n",
    "for ticker in tickers:\n",
    "    df = data[ticker].copy()\n",
    "    df.reset_index(inplace=True)\n",
    "    df['Ticker'] = ticker\n",
    "    assets_data[ticker] = df\n",
    "\n",
    "# Combine all into one DataFrame\n",
    "combined_df = pd.concat(assets_data.values(), ignore_index=True)\n",
    "\n",
    "# Check missing values\n",
    "print(\"\\nMissing values per column:\")\n",
    "print(combined_df.isnull().sum())\n",
    "\n",
    "# Save raw data for reuse\n",
    "combined_df.to_csv(\"financial_data_raw.csv\", index=False)\n",
    "print(\"\\nData saved to financial_data_raw.csv\")\n"
   ]
  }
 ],
 "metadata": {
  "language_info": {
   "name": "python"
  }
 },
 "nbformat": 4,
 "nbformat_minor": 5
}
