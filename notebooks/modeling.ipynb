{
 "cells": [
  {
   "cell_type": "code",
   "execution_count": null,
   "id": "5f33368a",
   "metadata": {},
   "outputs": [
    {
     "name": "stderr",
     "output_type": "stream",
     "text": [
      "C:\\Users\\pc\\AppData\\Local\\Temp\\ipykernel_7512\\1837123265.py:16: FutureWarning: Series.fillna with 'method' is deprecated and will raise in a future version. Use obj.ffill() or obj.bfill() instead.\n",
      "  series = series.fillna(method=\"ffill\")  # forward fill for non-trading days if any\n"
     ]
    },
    {
     "name": "stdout",
     "output_type": "stream",
     "text": [
      "Train points: 2218, Test points: 413\n"
     ]
    },
    {
     "data": {
      "image/png": "[encoded data removed]",
      "text/plain": [
       "<Figure size 1200x400 with 1 Axes>"
      ]
     },
     "metadata": {},
     "output_type": "display_data"
    }
   ],
   "source": [
    "# --- cell: prepare series & split ---\n",
    "import pandas as pd\n",
    "import numpy as np\n",
    "import matplotlib.pyplot as plt\n",
    "from sklearn.metrics import mean_absolute_error, mean_squared_error\n",
    "\n",
    "data=pd.read_csv(r'C:\\Users\\pc\\Time-Series-Forecasting-for-Portfolio-Management-Optimization\\data\\financial_data_clean.csv')\n",
    "\n",
    "# assume `data` is the processed DataFrame saved earlier\n",
    "tsla = data[data[\"Ticker\"] == \"TSLA\"].copy()\n",
    "tsla.sort_values(\"Date\", inplace=True)\n",
    "tsla.set_index(\"Date\", inplace=True)\n",
    "\n",
    "# Use Adj_Close as target\n",
    "series = tsla[\"Adj_Close\"].asfreq('B')  # business-day frequency; missing days will be NaN\n",
    "series = series.fillna(method=\"ffill\")  # forward fill for non-trading days if any\n",
    "\n",
    "# Chronological split: train up to end of 2023, test 2024-01-01 onward (adjust if you prefer)\n",
    "train = series[: \"2015-12-31\"]\n",
    "test  = series[\"2024-01-01\":]\n",
    "\n",
    "print(f\"Train points: {len(train)}, Test points: {len(test)}\")\n",
    "\n",
    "plt.figure(figsize=(12,4))\n",
    "plt.plot(train.index, train, label='Train')\n",
    "plt.plot(test.index, test, label='Test')\n",
    "plt.legend()\n",
    "plt.title(\"TSLA Adj Close — train/test split\")\n",
    "plt.show()\n"
   ]
  },
  {
   "cell_type": "code",
   "execution_count": 4,
   "id": "65408e71",
   "metadata": {},
   "outputs": [
    {
     "ename": "ValueError",
     "evalue": "numpy.dtype size changed, may indicate binary incompatibility. Expected 96 from C header, got 88 from PyObject",
     "output_type": "error",
     "traceback": [
      "\u001b[31m---------------------------------------------------------------------------\u001b[39m",
      "\u001b[31mValueError\u001b[39m                                Traceback (most recent call last)",
      "\u001b[36mCell\u001b[39m\u001b[36m \u001b[39m\u001b[32mIn[4]\u001b[39m\u001b[32m, line 2\u001b[39m\n\u001b[32m      1\u001b[39m \u001b[38;5;66;03m# --- cell: ARIMA auto_arima ---\u001b[39;00m\n\u001b[32m----> \u001b[39m\u001b[32m2\u001b[39m \u001b[38;5;28;01mimport\u001b[39;00m\u001b[38;5;250m \u001b[39m\u001b[34;01mpmdarima\u001b[39;00m\u001b[38;5;250m \u001b[39m\u001b[38;5;28;01mas\u001b[39;00m\u001b[38;5;250m \u001b[39m\u001b[34;01mpm\u001b[39;00m\n\u001b[32m      4\u001b[39m \u001b[38;5;66;03m# auto_arima will pick p,d,q (and seasonal if desired). set seasonal=False or True depending on data.\u001b[39;00m\n\u001b[32m      5\u001b[39m arima_model = pm.auto_arima(train,\n\u001b[32m      6\u001b[39m                             start_p=\u001b[32m0\u001b[39m, start_q=\u001b[32m0\u001b[39m,\n\u001b[32m      7\u001b[39m                             max_p=\u001b[32m5\u001b[39m, max_q=\u001b[32m5\u001b[39m,\n\u001b[32m   (...)\u001b[39m\u001b[32m     12\u001b[39m                             trace=\u001b[38;5;28;01mTrue\u001b[39;00m,\n\u001b[32m     13\u001b[39m                             information_criterion=\u001b[33m'\u001b[39m\u001b[33maic\u001b[39m\u001b[33m'\u001b[39m)\n",
      "\u001b[36mFile \u001b[39m\u001b[32mc:\\Users\\pc\\Time-Series-Forecasting-for-Portfolio-Management-Optimization\\.venv\\Lib\\site-packages\\pmdarima\\__init__.py:52\u001b[39m\n\u001b[32m     49\u001b[39m \u001b[38;5;28;01mfrom\u001b[39;00m\u001b[38;5;250m \u001b[39m\u001b[34;01m.\u001b[39;00m\u001b[38;5;250m \u001b[39m\u001b[38;5;28;01mimport\u001b[39;00m __check_build\n\u001b[32m     51\u001b[39m \u001b[38;5;66;03m# Stuff we want at top-level\u001b[39;00m\n\u001b[32m---> \u001b[39m\u001b[32m52\u001b[39m \u001b[38;5;28;01mfrom\u001b[39;00m\u001b[38;5;250m \u001b[39m\u001b[34;01m.\u001b[39;00m\u001b[34;01marima\u001b[39;00m\u001b[38;5;250m \u001b[39m\u001b[38;5;28;01mimport\u001b[39;00m auto_arima, ARIMA, AutoARIMA, StepwiseContext, decompose\n\u001b[32m     53\u001b[39m \u001b[38;5;28;01mfrom\u001b[39;00m\u001b[38;5;250m \u001b[39m\u001b[34;01m.\u001b[39;00m\u001b[34;01mutils\u001b[39;00m\u001b[38;5;250m \u001b[39m\u001b[38;5;28;01mimport\u001b[39;00m acf, autocorr_plot, c, pacf, plot_acf, plot_pacf, \\\n\u001b[32m     54\u001b[39m     tsdisplay\n\u001b[32m     55\u001b[39m \u001b[38;5;28;01mfrom\u001b[39;00m\u001b[38;5;250m \u001b[39m\u001b[34;01m.\u001b[39;00m\u001b[34;01mutils\u001b[39;00m\u001b[34;01m.\u001b[39;00m\u001b[34;01m_show_versions\u001b[39;00m\u001b[38;5;250m \u001b[39m\u001b[38;5;28;01mimport\u001b[39;00m show_versions\n",
      "\u001b[36mFile \u001b[39m\u001b[32mc:\\Users\\pc\\Time-Series-Forecasting-for-Portfolio-Management-Optimization\\.venv\\Lib\\site-packages\\pmdarima\\arima\\__init__.py:5\u001b[39m\n\u001b[32m      1\u001b[39m \u001b[38;5;66;03m# -*- coding: utf-8 -*-\u001b[39;00m\n\u001b[32m      2\u001b[39m \u001b[38;5;66;03m#\u001b[39;00m\n\u001b[32m      3\u001b[39m \u001b[38;5;66;03m# Author: Taylor Smith <taylor.smith@alkaline-ml.com>\u001b[39;00m\n\u001b[32m----> \u001b[39m\u001b[32m5\u001b[39m \u001b[38;5;28;01mfrom\u001b[39;00m\u001b[38;5;250m \u001b[39m\u001b[34;01m.\u001b[39;00m\u001b[34;01mapprox\u001b[39;00m\u001b[38;5;250m \u001b[39m\u001b[38;5;28;01mimport\u001b[39;00m *\n\u001b[32m      6\u001b[39m \u001b[38;5;28;01mfrom\u001b[39;00m\u001b[38;5;250m \u001b[39m\u001b[34;01m.\u001b[39;00m\u001b[34;01marima\u001b[39;00m\u001b[38;5;250m \u001b[39m\u001b[38;5;28;01mimport\u001b[39;00m *\n\u001b[32m      7\u001b[39m \u001b[38;5;28;01mfrom\u001b[39;00m\u001b[38;5;250m \u001b[39m\u001b[34;01m.\u001b[39;00m\u001b[34;01mauto\u001b[39;00m\u001b[38;5;250m \u001b[39m\u001b[38;5;28;01mimport\u001b[39;00m *\n",
      "\u001b[36mFile \u001b[39m\u001b[32mc:\\Users\\pc\\Time-Series-Forecasting-for-Portfolio-Management-Optimization\\.venv\\Lib\\site-packages\\pmdarima\\arima\\approx.py:9\u001b[39m\n\u001b[32m      1\u001b[39m \u001b[38;5;66;03m# -*- coding: utf-8 -*-\u001b[39;00m\n\u001b[32m      2\u001b[39m \u001b[38;5;66;03m#\u001b[39;00m\n\u001b[32m      3\u001b[39m \u001b[38;5;66;03m# Author: Taylor Smith <taylor.smith@alkaline-ml.com>\u001b[39;00m\n\u001b[32m      4\u001b[39m \u001b[38;5;66;03m#\u001b[39;00m\n\u001b[32m      5\u001b[39m \u001b[38;5;66;03m# R approx function\u001b[39;00m\n\u001b[32m      7\u001b[39m \u001b[38;5;28;01mimport\u001b[39;00m\u001b[38;5;250m \u001b[39m\u001b[34;01mnumpy\u001b[39;00m\u001b[38;5;250m \u001b[39m\u001b[38;5;28;01mas\u001b[39;00m\u001b[38;5;250m \u001b[39m\u001b[34;01mnp\u001b[39;00m\n\u001b[32m----> \u001b[39m\u001b[32m9\u001b[39m \u001b[38;5;28;01mfrom\u001b[39;00m\u001b[38;5;250m \u001b[39m\u001b[34;01m.\u001b[39;00m\u001b[34;01m.\u001b[39;00m\u001b[34;01mutils\u001b[39;00m\u001b[34;01m.\u001b[39;00m\u001b[34;01marray\u001b[39;00m\u001b[38;5;250m \u001b[39m\u001b[38;5;28;01mimport\u001b[39;00m c, check_endog\n\u001b[32m     10\u001b[39m \u001b[38;5;28;01mfrom\u001b[39;00m\u001b[38;5;250m \u001b[39m\u001b[34;01m.\u001b[39;00m\u001b[34;01m.\u001b[39;00m\u001b[34;01mutils\u001b[39;00m\u001b[38;5;250m \u001b[39m\u001b[38;5;28;01mimport\u001b[39;00m get_callable\n\u001b[32m     11\u001b[39m \u001b[38;5;28;01mfrom\u001b[39;00m\u001b[38;5;250m \u001b[39m\u001b[34;01m.\u001b[39;00m\u001b[34;01m.\u001b[39;00m\u001b[34;01mcompat\u001b[39;00m\u001b[34;01m.\u001b[39;00m\u001b[34;01mnumpy\u001b[39;00m\u001b[38;5;250m \u001b[39m\u001b[38;5;28;01mimport\u001b[39;00m DTYPE\n",
      "\u001b[36mFile \u001b[39m\u001b[32mc:\\Users\\pc\\Time-Series-Forecasting-for-Portfolio-Management-Optimization\\.venv\\Lib\\site-packages\\pmdarima\\utils\\__init__.py:5\u001b[39m\n\u001b[32m      1\u001b[39m \u001b[38;5;66;03m# -*- coding: utf-8 -*-\u001b[39;00m\n\u001b[32m      2\u001b[39m \u001b[38;5;66;03m#\u001b[39;00m\n\u001b[32m      3\u001b[39m \u001b[38;5;66;03m# Author: Taylor Smith <taylor.smith@alkaline-ml.com>\u001b[39;00m\n\u001b[32m----> \u001b[39m\u001b[32m5\u001b[39m \u001b[38;5;28;01mfrom\u001b[39;00m\u001b[38;5;250m \u001b[39m\u001b[34;01m.\u001b[39;00m\u001b[34;01marray\u001b[39;00m\u001b[38;5;250m \u001b[39m\u001b[38;5;28;01mimport\u001b[39;00m *\n\u001b[32m      6\u001b[39m \u001b[38;5;28;01mfrom\u001b[39;00m\u001b[38;5;250m \u001b[39m\u001b[34;01m.\u001b[39;00m\u001b[34;01mmetaestimators\u001b[39;00m\u001b[38;5;250m \u001b[39m\u001b[38;5;28;01mimport\u001b[39;00m *\n\u001b[32m      7\u001b[39m \u001b[38;5;28;01mfrom\u001b[39;00m\u001b[38;5;250m \u001b[39m\u001b[34;01m.\u001b[39;00m\u001b[34;01mvisualization\u001b[39;00m\u001b[38;5;250m \u001b[39m\u001b[38;5;28;01mimport\u001b[39;00m *\n",
      "\u001b[36mFile \u001b[39m\u001b[32mc:\\Users\\pc\\Time-Series-Forecasting-for-Portfolio-Management-Optimization\\.venv\\Lib\\site-packages\\pmdarima\\utils\\array.py:13\u001b[39m\n\u001b[32m     10\u001b[39m \u001b[38;5;28;01mimport\u001b[39;00m\u001b[38;5;250m \u001b[39m\u001b[34;01mpandas\u001b[39;00m\u001b[38;5;250m \u001b[39m\u001b[38;5;28;01mas\u001b[39;00m\u001b[38;5;250m \u001b[39m\u001b[34;01mpd\u001b[39;00m\n\u001b[32m     12\u001b[39m \u001b[38;5;28;01mfrom\u001b[39;00m\u001b[38;5;250m \u001b[39m\u001b[34;01m.\u001b[39;00m\u001b[34;01m.\u001b[39;00m\u001b[34;01mcompat\u001b[39;00m\u001b[38;5;250m \u001b[39m\u001b[38;5;28;01mimport\u001b[39;00m DTYPE\n\u001b[32m---> \u001b[39m\u001b[32m13\u001b[39m \u001b[38;5;28;01mfrom\u001b[39;00m\u001b[38;5;250m \u001b[39m\u001b[34;01m.\u001b[39;00m\u001b[34;01m_array\u001b[39;00m\u001b[38;5;250m \u001b[39m\u001b[38;5;28;01mimport\u001b[39;00m C_intgrt_vec\n\u001b[32m     15\u001b[39m __all__ = [\n\u001b[32m     16\u001b[39m     \u001b[33m'\u001b[39m\u001b[33mas_series\u001b[39m\u001b[33m'\u001b[39m,\n\u001b[32m     17\u001b[39m     \u001b[33m'\u001b[39m\u001b[33mc\u001b[39m\u001b[33m'\u001b[39m,\n\u001b[32m   (...)\u001b[39m\u001b[32m     22\u001b[39m     \u001b[33m'\u001b[39m\u001b[33mis_iterable\u001b[39m\u001b[33m'\u001b[39m\n\u001b[32m     23\u001b[39m ]\n\u001b[32m     26\u001b[39m \u001b[38;5;28;01mdef\u001b[39;00m\u001b[38;5;250m \u001b[39m\u001b[34mas_series\u001b[39m(x, **kwargs):\n",
      "\u001b[36mFile \u001b[39m\u001b[32mc:\\Users\\pc\\Time-Series-Forecasting-for-Portfolio-Management-Optimization\\.venv\\Lib\\site-packages\\pmdarima\\utils\\_array.pyx:1\u001b[39m, in \u001b[36minit pmdarima.utils._array\u001b[39m\u001b[34m()\u001b[39m\n",
      "\u001b[31mValueError\u001b[39m: numpy.dtype size changed, may indicate binary incompatibility. Expected 96 from C header, got 88 from PyObject"
     ]
    }
   ],
   "source": [
    "# --- cell: ARIMA auto_arima ---\n",
    "import pmdarima as pm\n",
    "\n",
    "# auto_arima will pick p,d,q (and seasonal if desired). set seasonal=False or True depending on data.\n",
    "arima_model = pm.auto_arima(train,\n",
    "                            start_p=0, start_q=0,\n",
    "                            max_p=5, max_q=5,\n",
    "                            seasonal=False,        # set True and m=5/252/etc if you expect seasonality\n",
    "                            stepwise=True,\n",
    "                            suppress_warnings=True,\n",
    "                            error_action='ignore',\n",
    "                            trace=True,\n",
    "                            information_criterion='aic')\n",
    "\n",
    "print(arima_model.summary())\n",
    "\n",
    "# Forecast for length of test\n",
    "n_periods = len(test)\n",
    "arima_forecast, conf_int = arima_model.predict(n_periods=n_periods, return_conf_int=True)\n",
    "arima_index = test.index[:n_periods]\n",
    "arima_pred = pd.Series(arima_forecast, index=arima_index)\n",
    "arima_ci = pd.DataFrame(conf_int, index=arima_index, columns=['lower','upper'])\n"
   ]
  },
  {
   "cell_type": "code",
   "execution_count": null,
   "id": "bb239b6f",
   "metadata": {},
   "outputs": [],
   "source": [
    "# --- cell: ARIMA evaluation ---\n",
    "def evaluate(y_true, y_pred):\n",
    "    mae = mean_absolute_error(y_true, y_pred)\n",
    "    rmse = np.sqrt(mean_squared_error(y_true, y_pred))\n",
    "    mape = np.mean(np.abs((y_true - y_pred) / y_true)) * 100\n",
    "    return mae, rmse, mape\n",
    "\n",
    "arima_mae, arima_rmse, arima_mape = evaluate(test[:n_periods], arima_pred)\n",
    "print(f\"ARIMA MAE: {arima_mae:.4f}, RMSE: {arima_rmse:.4f}, MAPE: {arima_mape:.2f}%\")\n",
    "\n",
    "# Plot actual vs ARIMA forecast\n",
    "plt.figure(figsize=(12,5))\n",
    "plt.plot(train.index, train, label='Train', alpha=0.6)\n",
    "plt.plot(test.index, test, label='Actual', color='black')\n",
    "plt.plot(arima_pred.index, arima_pred, label='ARIMA Forecast', color='orange')\n",
    "plt.fill_between(arima_ci.index, arima_ci['lower'], arima_ci['upper'], color='orange', alpha=0.2)\n",
    "plt.legend()\n",
    "plt.title(\"ARIMA Forecast vs Actuals\")\n",
    "plt.show()\n"
   ]
  },
  {
   "cell_type": "code",
   "execution_count": null,
   "id": "0112b061",
   "metadata": {},
   "outputs": [],
   "source": [
    "# --- cell: LSTM prep ---\n",
    "from sklearn.preprocessing import MinMaxScaler\n",
    "import tensorflow as tf\n",
    "from tensorflow import keras\n",
    "\n",
    "# Use only the train window to fit scaler to avoid leakage\n",
    "scaler = MinMaxScaler()\n",
    "train_values = train.values.reshape(-1,1)\n",
    "scaler.fit(train_values)\n",
    "\n",
    "series_scaled = scaler.transform(series.values.reshape(-1,1)).flatten()\n",
    "series_scaled = pd.Series(series_scaled, index=series.index)\n",
    "\n",
    "# create supervised windows\n",
    "def create_windows(series_values, window_size):\n",
    "    X, y = [], []\n",
    "    for i in range(len(series_values) - window_size):\n",
    "        X.append(series_values[i:i+window_size])\n",
    "        y.append(series_values[i+window_size])\n",
    "    return np.array(X), np.array(y)\n",
    "\n",
    "WINDOW = 60  # 60 business days ~3 months; tune this\n",
    "# training window: use scaled values for train only\n",
    "train_scaled = series_scaled[: len(train)]\n",
    "X_train, y_train = create_windows(train_scaled.values, WINDOW)\n",
    "\n",
    "# For test forecasting, we'll use a rolling prediction approach (walk-forward)\n",
    "print(\"X_train shape:\", X_train.shape, \"y_train shape:\", y_train.shape)\n"
   ]
  },
  {
   "cell_type": "code",
   "execution_count": null,
   "id": "013980d1",
   "metadata": {},
   "outputs": [],
   "source": [
    "# --- cell: LSTM model ---\n",
    "tf.random.set_seed(42)\n",
    "\n",
    "model = keras.Sequential([\n",
    "    keras.layers.Input(shape=(WINDOW, 1)),\n",
    "    keras.layers.LSTM(64, return_sequences=True),\n",
    "    keras.layers.LSTM(32),\n",
    "    keras.layers.Dense(16, activation='relu'),\n",
    "    keras.layers.Dense(1)\n",
    "])\n",
    "\n",
    "model.compile(optimizer='adam', loss='mse')\n",
    "model.summary()\n",
    "\n",
    "# reshape X_train to (samples, window, 1)\n",
    "X_train_reshaped = X_train.reshape((X_train.shape[0], X_train.shape[1], 1))\n",
    "history = model.fit(X_train_reshaped, y_train,\n",
    "                    epochs=30,\n",
    "                    batch_size=32,\n",
    "                    validation_split=0.1,\n",
    "                    verbose=2)\n"
   ]
  },
  {
   "cell_type": "code",
   "execution_count": null,
   "id": "f78a7e2c",
   "metadata": {},
   "outputs": [],
   "source": [
    "# --- cell: LSTM forecasting (walk-forward) ---\n",
    "def walk_forward_forecast(model, full_series_scaled, train_len, window_size, steps):\n",
    "    preds = []\n",
    "    # start with last window from the training portion\n",
    "    last_window = full_series_scaled[train_len - window_size : train_len].tolist()\n",
    "    for _ in range(steps):\n",
    "        x = np.array(last_window[-window_size:]).reshape(1, window_size, 1)\n",
    "        yhat = model.predict(x, verbose=0)[0,0]\n",
    "        preds.append(yhat)\n",
    "        last_window.append(yhat)\n",
    "    return np.array(preds)\n",
    "\n",
    "# full scaled series values (index aligned)\n",
    "full_scaled_vals = series_scaled.values\n",
    "lstm_preds_scaled = walk_forward_forecast(model, full_scaled_vals, len(train), WINDOW, n_periods)\n",
    "\n",
    "# inverse-scale predictions\n",
    "lstm_preds = scaler.inverse_transform(lstm_preds_scaled.reshape(-1,1)).flatten()\n",
    "lstm_pred_series = pd.Series(lstm_preds, index=test.index[:n_periods])\n"
   ]
  },
  {
   "cell_type": "code",
   "execution_count": null,
   "id": "9bc49ade",
   "metadata": {},
   "outputs": [],
   "source": []
  }
 ],
 "metadata": {
  "kernelspec": {
   "display_name": ".venv",
   "language": "python",
   "name": "python3"
  },
  "language_info": {
   "codemirror_mode": {
    "name": "ipython",
    "version": 3
   },
   "file_extension": ".py",
   "mimetype": "text/x-python",
   "name": "python",
   "nbconvert_exporter": "python",
   "pygments_lexer": "ipython3",
   "version": "3.12.3"
  }
 },
 "nbformat": 4,
 "nbformat_minor": 5
}
